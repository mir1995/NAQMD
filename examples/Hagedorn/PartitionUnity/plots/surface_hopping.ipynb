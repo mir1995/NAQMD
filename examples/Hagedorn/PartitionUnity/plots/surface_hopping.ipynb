{
 "cells": [
  {
   "cell_type": "markdown",
   "metadata": {},
   "source": [
    "## Structure of paper"
   ]
  },
  {
   "cell_type": "markdown",
   "metadata": {},
   "source": [
    "### Title: ``Superadiabatic transitions in Probalistic Single Switch Surface Hopping algorithm\""
   ]
  },
  {
   "cell_type": "markdown",
   "metadata": {},
   "source": [
    "### Abstract (Message of the paper)\n",
    "\n",
    "A novel transition probability rate that accounts for non-adiabatic transitions between energy levels is presented. We incorporate this Superadiabatic rate within the Probabilistic Single Switch Surface Hopping algortithm of Lasser et al. We compare the quality of the resulting algorithm to one using the more famous Landau-Zener rate. \n",
    "Whilst the latter gives accurate results for many systems, it deteriorates significantly in regimes such as where the energy gap is relatively large. We demonstrate the greater performance of the Superadiabatic rate in these regimes on model system and the NaI and Pyrazine. The Superadiabatic rate achieves higher orders of accuracy for the final non-adiabatic population for the same computational cost.\n",
    "\n",
    "**Reduces to the LZ rate in the small gap regime and zero gradient in the orthogonal direction (multidimensional systems)**|\n"
   ]
  },
  {
   "cell_type": "markdown",
   "metadata": {},
   "source": [
    "### Introduction \n",
    "\n",
    "1. **Big picture motivation - Adam**\n",
    "(Why is the work we are doing important for Science?) Do we need a motivation along the lines of: photo-chemical processes in Nature -> scientific method -> exploitation. How a better understanding of these processes would lead to techonological advancement.\n",
    "\n",
    "2. **Born-Oppenheimer approximation**. Explain why this approximation reduces the computational complexity of the problem but at the same time it breaks down when the energy separation is not large enough. \n",
    "\n",
    "3. **Numerical challenges: the computational intractability of the full solution with grid-based methods**\n",
    "\n",
    "4. **Surface Hopping (Tully, Tully and Preston, ...)** Literature review on this and the Landau-Zener rate.\n",
    "\n",
    "5. Lasser et al. \n",
    "\n",
    "6. Maybe here or in the discussion we obviously want to mention \n",
    "\n",
    "a) mesh-free wavepacket methods such MCTDH, ...\n",
    "\n",
    "b) how this superadiabatic formula can actually be introduced into these one-level wavepacket based methods \n",
    "\n",
    "The main is message is that there are numerous methods to solve the one level dynamics efficiently, it is more of a challenge to extend these approaches to account for quantum-effects: tunneling, non-adiabatic transitons, phase-interference effects. (this should perhaps go right after you have introduced the BOA)\n",
    "\n",
    "**Generally speaking the challenge is how to account for quantum effects in these one level wavepacket based methods. We focus on non-adiabatic effects.**"
   ]
  },
  {
   "cell_type": "markdown",
   "metadata": {},
   "source": [
    "### Problem Statement (Set up)\n",
    "\n",
    "**Comment:** If I follow the theory, the diabatic representation is not actually the starting point for the formulated problem. I guess that if this were a paper for a mathematic journal we'd probably start by deriving the coupled system in the adiabatic representation (derivates and such) as in Lubich's book. In these journals, it seems that everyone starts from the diabatic representation and so we will \n",
    "follow that approach. \n",
    "\n",
    "$\\textcolor{red}{\\text{Since we are publishing to a Chemistry journal, we probably want to consider the most general form of the potential matrix.}}$\n",
    "\n",
    "Let us consider a molecule with $n$ nuclei. The time evolution of a two-state semiclassical nuclear wavepacket $\\psi = \\begin{bmatrix} \\psi_1(x,t) \\\\ \\psi_2(x,t) \\end{bmatrix}$ \n",
    "obeys the Schrodinger equation\n",
    "\n",
    "$$ \n",
    "    i\\partial_t \\psi^\\epsilon = - \\sum_{j=1}^n \\frac{1}{m_j}\\Delta_{x_j} \\psi^\\epsilon + V\\psi^\\epsilon\n",
    "$$\n",
    "\n",
    "where the potential is given in the diabatic representation by\n",
    "\n",
    "$$ \n",
    "    V(x) = \\begin{bmatrix}\n",
    "                v_{11}(x) & v_{12}(x)\n",
    "                \\\\\n",
    "                v_{12}(x) & v_{22}(x)\n",
    "            \\end{bmatrix}, \n",
    "            \\hspace{1cm} x \\in \\mathbb{R}^{3n}\n",
    "$$\n",
    "\n",
    "The mass of the $ i^{th} $ nuclei is denoted by $ m_i $. The equation is given in atomic units $ \\bar{h} = 1 $. We then transform the equation to dimensionless coordinates and re-scale time so that ..\n",
    "\n",
    "$\\textcolor{red}{\\text{We might want to also consider introducing the masses of the nuclei and then show how} \\epsilon \\text{arises as in Lasser's paper. This makes sense since then it's clear how we are computing} \\epsilon }$\n",
    "\n",
    "$\\textcolor{red}{\\text{What assumptions should we make for the potential V. I guess we could consider the most general form for which the SSSH holds for and then simply mention that the Superadiabatic formula is derived for a smaller class of potentials.}}$\n",
    "\n",
    "\n",
    "$\\textcolor{red}{\\text{should we introduce the system in its most general form and then simply mention that the formula was derived under the assumption that ... i do not know the details for the \n",
    "formula when the trace is non-zero.}}$\n",
    "\n",
    "Let $E^{+}(x)$ and $E^{-}(x)$ denote the eigenvalues of $V(x)$. If the dimension $d=1$ we'll assume that $E^{+} - E^{-}(x) > \\delta > 0$, avoided crossing. Otherwise, we will assume $E^{+}(x) \\geq E^{-}(x)$\n",
    "with a conical intersection. The crossing set is defined as $\\left\\{x \\in \\mathbb{R}^{d} | E^{+}(x) = E^{-}(x) \\right\\}$ and has dimension $d-1$.\n",
    "\n",
    "You want to say something about the eigenvalues of the potential.\n",
    "\n",
    "- Introduce the coupled system of PDEs as a way of tackling the failure of the BOA approximation when the energy gap allows non-negligible transitions between levels. \n",
    "I should look into the simple derivation in Lubich's book which uses the time-dependent variational principle to derive the coupled system. The derivation very straightforward. However, if this is going to be published into a Chemistry journal, we probably want to stick with the Chemistry Literature. This is known as the Born-Yang? approximation. Need to check but it should be equivalent. \n",
    "\n",
    "- What does this particular formulation we are considering mean in practical terms? No dispersion, only electro-static forces are being considered.\n",
    "\n",
    "- Obviously, assume that the rest of the energy levels is far away."
   ]
  },
  {
   "cell_type": "markdown",
   "metadata": {},
   "source": [
    "### Methodology [Approach 1]\n",
    "\n",
    "\n",
    "**Approximating expectation values**\n",
    "An alternative to wavepacket based methods ..\n",
    "I think this might be the better approach because you would start with the thing that the paper is about to avoid confusion and put other results onto a second level.\n",
    "\n",
    "**Single Switch Surface Hopping Algorithm by Lasser et al. with the LZ adiabatic transition rate.**\n",
    "\n",
    "\n",
    "**Superadiabatic formula / Superadiabatic transitions**\n",
    "\n",
    "This idea of one level BA dynamics up and the hopping of particles at the crossing is present also in the work of Goddard et al.. They propose a similar algorithm but wavepackets are hopped at the crossing instead of particles. They derive an explicit formula for the transmitted wavepacket in the presence of an avoided crossing (see betz NaI) which is valid in the scattering regime, that is away from the \n",
    "crossing region. \n",
    "Let us define the center of mass of the wavepacket as ...\n",
    "Let ... be the incoming wavepacket at time $t_c$ when the CoM hits the crossing. Then the transmitted wavepacket is given by ..\n",
    "$$ \n",
    "    \\hat{\\psi}(x, t_c) = \n",
    "$$\n",
    "\n",
    "Further, the authors have further generalised the formula to a multidimensional setting as outlined in [reference multidimensional paper.]\n",
    "\n",
    "> Draw connection with Single Switch Wavepacket Surface Hopping by Goddard et al. so that you can introduce the Superadiabatic formula \n",
    "\n",
    "> Emphasise the mathematical approach in an intuitive way used to derive the Superadiabatic formula and highlight the exponential term in the formula\n",
    "\n",
    "> Define a new transition rate from the Superadiabatic formula that you wish to compare to the LZ rate\n",
    "\n",
    "- Approximating expectation values of quantum observables rather than the full distribution\n",
    "\n",
    "- We did look at the mathematical derivation of the one level particle evolution. This is just approximating the integral arising from Egorov's Theorem"
   ]
  },
  {
   "cell_type": "markdown",
   "metadata": {},
   "source": [
    "### Methodology [Approach 2]\n",
    "\n",
    "> Introduce the Single Switch Wavepacket Surface Hopping Method developed by Goddard et al. and reference the various papers. Obviously introduce the formula. \n",
    "\n",
    "> Draw connection with Single Switch Surface Hopping by Lasser et al. emphasising how this is about approximating expectation values of quantum observables.\n",
    "\n",
    "> Explain the LZ rate and the origins of the formula, perhaps highlighting the assumptions made in the derivation such as linear separation of the diabatic \n",
    "surfaces. \n",
    "\n",
    "> Define a new transition rate from the Superadiabatic formula that you wish to compare to the LZ rate\n",
    "\n",
    "- Approximating expectation values of quantum observables rather than the full distribution\n",
    "\n",
    "- We did look at the mathematical derivation of the one level particle evolution. This is just approximating the integral arising from Egorov's Theorem"
   ]
  },
  {
   "cell_type": "markdown",
   "metadata": {},
   "source": [
    "**Assumptions**\n",
    "\n",
    "- Assumptions in the mathematical derivation of the Superadiabatic formula. \n",
    "1. The momentum of the wavepackets is \"large\" ($\\delta / p$ small) and the variance of the wavepacket is $\\mathcal{O}(\\epsilon)$ with a \"small\" constant. Is it possible that the transition rate is able to capture reflections as well, maybe in the particle surface hopping?\n",
    "2. No interference effects"
   ]
  },
  {
   "cell_type": "markdown",
   "metadata": {},
   "source": [
    "### Numerical experiments\n",
    "\n",
    "We compare the quality of the two transition rates on a selection of both model and real systems. The expectation values are compared to the exact two level computation solved in the diabatic representation using a Strang-Splitting method with a relative accuracy for the population of $10^{-6}$"
   ]
  },
  {
   "cell_type": "markdown",
   "metadata": {},
   "source": [
    "**Model Systems**\n",
    "- Landau-Zener model.  Direct easy comparison of the LZ and the SA rate. $\\tau_c$ equates its approximation\n",
    "\n",
    "**Real Systems**\n",
    "- NaI (reference previous work by Goddard et al.) (1D system)\n",
    "- Pyrazine (reference work by Lasser) (3D system). To showcase the generalisation of the SA formula to multiple dimensions. (reference work on wavepacket slicing method.)"
   ]
  },
  {
   "cell_type": "markdown",
   "metadata": {},
   "source": []
  },
  {
   "cell_type": "markdown",
   "metadata": {},
   "source": [
    "**Thing we have not looked into**\n",
    "\n",
    "- The Wigner function is a distribution (+ve) but we do not know how to sample directly from it -> MCMC?\n",
    "\n",
    "- The Wigner function is not a distribution -> the most recent paper by Lasser and Bergold on decomposition into Gaussian (the Wigner transform will then contain some cross-terms since it is not a linear \n",
    "transformation)\n",
    "\n",
    "- Tully's fewest switches algorithm\n",
    "\n",
    "- We have looked at how the particle method arises mathematically for one leve. I think Lasser et al. have actually a derivation for the coupled system as well and that's where their rate arises from. \n",
    "Although that was for a deterministic approach.\n"
   ]
  },
  {
   "cell_type": "markdown",
   "metadata": {},
   "source": [
    "**Questions**\n",
    "\n",
    "- Should we have a separate section for the numerical methods used to solve the PDE and the ODEs or it suffices to just mention them as we introduce the algorithms?\n",
    "\n",
    "- I am of the opinion that we should keep the definition of the transition rate as simple and as intuitive as possible; i.e. no prefactors and with the $\\tau_c$ approximation. \n",
    "I guess we can simply mention these things.\n",
    "\n",
    "- Based on the few papers from the Chemistry and Mathematical literature I have read, it seems to me that in Chemistry Journals it is assumed that the reader is extensively acquainted with the background to an extent where there is no need to explain (nor mathematically nor in an intuitive way) things such as the BOA but it suffices to simply mention them "
   ]
  },
  {
   "cell_type": "markdown",
   "metadata": {},
   "source": []
  }
 ],
 "metadata": {
  "interpreter": {
   "hash": "31f2aee4e71d21fbe5cf8b01ff0e069b9275f58929596ceb00d14d90e3e16cd6"
  },
  "kernelspec": {
   "display_name": "Python 3.8.10 64-bit",
   "language": "python",
   "name": "python3"
  },
  "language_info": {
   "codemirror_mode": {
    "name": "ipython",
    "version": 3
   },
   "file_extension": ".py",
   "mimetype": "text/x-python",
   "name": "python",
   "nbconvert_exporter": "python",
   "pygments_lexer": "ipython3",
   "version": "3.8.10"
  },
  "orig_nbformat": 4
 },
 "nbformat": 4,
 "nbformat_minor": 2
}
